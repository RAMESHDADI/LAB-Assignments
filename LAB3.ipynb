{
  "nbformat": 4,
  "nbformat_minor": 0,
  "metadata": {
    "colab": {
      "provenance": []
    },
    "kernelspec": {
      "name": "python3",
      "display_name": "Python 3"
    },
    "language_info": {
      "name": "python"
    }
  },
  "cells": [
    {
      "cell_type": "code",
      "execution_count": 1,
      "metadata": {
        "colab": {
          "base_uri": "https://localhost:8080/"
        },
        "id": "382v2Yc8Gaih",
        "outputId": "af2dfaf8-0df4-49d7-f749-61ac48963a8f"
      },
      "outputs": [
        {
          "output_type": "stream",
          "name": "stdout",
          "text": [
            "      battery_power  blue  clock_speed  dual_sim  fc  four_g  int_memory  \\\n",
            "0               842     0          2.2         0   1       0           7   \n",
            "1              1021     1          0.5         1   0       1          53   \n",
            "2               563     1          0.5         1   2       1          41   \n",
            "3               615     1          2.5         0   0       0          10   \n",
            "4              1821     1          1.2         0  13       1          44   \n",
            "...             ...   ...          ...       ...  ..     ...         ...   \n",
            "1995            794     1          0.5         1   0       1           2   \n",
            "1996           1965     1          2.6         1   0       0          39   \n",
            "1997           1911     0          0.9         1   1       1          36   \n",
            "1998           1512     0          0.9         0   4       1          46   \n",
            "1999            510     1          2.0         1   5       1          45   \n",
            "\n",
            "      m_dep  mobile_wt  n_cores  ...  px_height  px_width   ram  sc_h  sc_w  \\\n",
            "0       0.6        188        2  ...         20       756  2549     9     7   \n",
            "1       0.7        136        3  ...        905      1988  2631    17     3   \n",
            "2       0.9        145        5  ...       1263      1716  2603    11     2   \n",
            "3       0.8        131        6  ...       1216      1786  2769    16     8   \n",
            "4       0.6        141        2  ...       1208      1212  1411     8     2   \n",
            "...     ...        ...      ...  ...        ...       ...   ...   ...   ...   \n",
            "1995    0.8        106        6  ...       1222      1890   668    13     4   \n",
            "1996    0.2        187        4  ...        915      1965  2032    11    10   \n",
            "1997    0.7        108        8  ...        868      1632  3057     9     1   \n",
            "1998    0.1        145        5  ...        336       670   869    18    10   \n",
            "1999    0.9        168        6  ...        483       754  3919    19     4   \n",
            "\n",
            "      talk_time  three_g  touch_screen  wifi  price_range  \n",
            "0            19        0             0     1            1  \n",
            "1             7        1             1     0            2  \n",
            "2             9        1             1     0            2  \n",
            "3            11        1             0     0            2  \n",
            "4            15        1             1     0            1  \n",
            "...         ...      ...           ...   ...          ...  \n",
            "1995         19        1             1     0            0  \n",
            "1996         16        1             1     1            2  \n",
            "1997          5        1             1     0            3  \n",
            "1998         19        1             1     1            0  \n",
            "1999          2        1             1     1            3  \n",
            "\n",
            "[2000 rows x 21 columns]\n"
          ]
        }
      ],
      "source": [
        "import numpy as np\n",
        "import pandas as pd\n",
        "import random\n",
        "a=pd.read_csv('/content/drive/MyDrive/train.csv')\n",
        "print(a)"
      ]
    },
    {
      "cell_type": "code",
      "source": [
        "x=a.drop(columns=[\"price_range\"],axis=1)\n",
        "y=a[\"price_range\"]\n",
        "print(x)\n",
        "print(y)"
      ],
      "metadata": {
        "colab": {
          "base_uri": "https://localhost:8080/"
        },
        "id": "hH8eaUk9Gz8Z",
        "outputId": "d43d996f-4690-4ef5-f535-e8305369a4c5"
      },
      "execution_count": 2,
      "outputs": [
        {
          "output_type": "stream",
          "name": "stdout",
          "text": [
            "      battery_power  blue  clock_speed  dual_sim  fc  four_g  int_memory  \\\n",
            "0               842     0          2.2         0   1       0           7   \n",
            "1              1021     1          0.5         1   0       1          53   \n",
            "2               563     1          0.5         1   2       1          41   \n",
            "3               615     1          2.5         0   0       0          10   \n",
            "4              1821     1          1.2         0  13       1          44   \n",
            "...             ...   ...          ...       ...  ..     ...         ...   \n",
            "1995            794     1          0.5         1   0       1           2   \n",
            "1996           1965     1          2.6         1   0       0          39   \n",
            "1997           1911     0          0.9         1   1       1          36   \n",
            "1998           1512     0          0.9         0   4       1          46   \n",
            "1999            510     1          2.0         1   5       1          45   \n",
            "\n",
            "      m_dep  mobile_wt  n_cores  pc  px_height  px_width   ram  sc_h  sc_w  \\\n",
            "0       0.6        188        2   2         20       756  2549     9     7   \n",
            "1       0.7        136        3   6        905      1988  2631    17     3   \n",
            "2       0.9        145        5   6       1263      1716  2603    11     2   \n",
            "3       0.8        131        6   9       1216      1786  2769    16     8   \n",
            "4       0.6        141        2  14       1208      1212  1411     8     2   \n",
            "...     ...        ...      ...  ..        ...       ...   ...   ...   ...   \n",
            "1995    0.8        106        6  14       1222      1890   668    13     4   \n",
            "1996    0.2        187        4   3        915      1965  2032    11    10   \n",
            "1997    0.7        108        8   3        868      1632  3057     9     1   \n",
            "1998    0.1        145        5   5        336       670   869    18    10   \n",
            "1999    0.9        168        6  16        483       754  3919    19     4   \n",
            "\n",
            "      talk_time  three_g  touch_screen  wifi  \n",
            "0            19        0             0     1  \n",
            "1             7        1             1     0  \n",
            "2             9        1             1     0  \n",
            "3            11        1             0     0  \n",
            "4            15        1             1     0  \n",
            "...         ...      ...           ...   ...  \n",
            "1995         19        1             1     0  \n",
            "1996         16        1             1     1  \n",
            "1997          5        1             1     0  \n",
            "1998         19        1             1     1  \n",
            "1999          2        1             1     1  \n",
            "\n",
            "[2000 rows x 20 columns]\n",
            "0       1\n",
            "1       2\n",
            "2       2\n",
            "3       2\n",
            "4       1\n",
            "       ..\n",
            "1995    0\n",
            "1996    2\n",
            "1997    3\n",
            "1998    0\n",
            "1999    3\n",
            "Name: price_range, Length: 2000, dtype: int64\n"
          ]
        }
      ]
    },
    {
      "cell_type": "code",
      "source": [
        "minimum=np.min(y)\n",
        "maximum=np.max(y)\n",
        "print(minimum)\n",
        "print(maximum)"
      ],
      "metadata": {
        "colab": {
          "base_uri": "https://localhost:8080/"
        },
        "id": "t_B63R7fHAPj",
        "outputId": "ba16f1ba-fc88-47e9-8298-9e5bd442f42f"
      },
      "execution_count": 3,
      "outputs": [
        {
          "output_type": "stream",
          "name": "stdout",
          "text": [
            "0\n",
            "3\n"
          ]
        }
      ]
    },
    {
      "cell_type": "code",
      "source": [
        "from sklearn.preprocessing import MinMaxScaler\n",
        "scaler=MinMaxScaler(feature_range=(0,1))\n",
        "x=scaler.fit_transform(x)\n",
        "print(x)"
      ],
      "metadata": {
        "colab": {
          "base_uri": "https://localhost:8080/"
        },
        "id": "NfC-ouowHTha",
        "outputId": "eb52535d-71b2-4277-8f6b-e7eb51cc984d"
      },
      "execution_count": 4,
      "outputs": [
        {
          "output_type": "stream",
          "name": "stdout",
          "text": [
            "[[0.22778891 0.         0.68       ... 0.         0.         1.        ]\n",
            " [0.34736139 1.         0.         ... 1.         1.         0.        ]\n",
            " [0.04141617 1.         0.         ... 1.         1.         0.        ]\n",
            " ...\n",
            " [0.94188377 0.         0.16       ... 1.         1.         0.        ]\n",
            " [0.6753507  0.         0.16       ... 1.         1.         1.        ]\n",
            " [0.00601202 1.         0.6        ... 1.         1.         1.        ]]\n"
          ]
        }
      ]
    },
    {
      "cell_type": "code",
      "source": [
        "from sklearn.model_selection import train_test_split\n",
        "x_train,x_test,y_train,y_test=train_test_split(x,y,test_size=0.3)\n",
        "print(x_train)\n",
        "print(x_test)\n",
        "print(y_train)\n",
        "print(y_test)"
      ],
      "metadata": {
        "colab": {
          "base_uri": "https://localhost:8080/"
        },
        "id": "D7gG5-3ZHc_6",
        "outputId": "35df304f-c536-4978-c1da-d0c1ffea1c1f"
      },
      "execution_count": 5,
      "outputs": [
        {
          "output_type": "stream",
          "name": "stdout",
          "text": [
            "[[0.11623246 0.         0.72       ... 1.         0.         1.        ]\n",
            " [0.68002672 0.         0.96       ... 1.         1.         1.        ]\n",
            " [0.72144289 1.         0.2        ... 0.         1.         1.        ]\n",
            " ...\n",
            " [0.11422846 1.         0.         ... 0.         0.         0.        ]\n",
            " [0.05945224 1.         0.28       ... 0.         1.         0.        ]\n",
            " [0.25250501 1.         0.8        ... 1.         0.         1.        ]]\n",
            "[[0.19505678 1.         0.92       ... 1.         1.         0.        ]\n",
            " [0.38877756 1.         0.36       ... 1.         1.         1.        ]\n",
            " [0.19505678 1.         0.56       ... 1.         1.         1.        ]\n",
            " ...\n",
            " [0.87641951 1.         0.04       ... 1.         1.         0.        ]\n",
            " [0.53907816 0.         0.32       ... 0.         1.         0.        ]\n",
            " [0.02672011 1.         0.72       ... 0.         0.         0.        ]]\n",
            "679     0\n",
            "705     2\n",
            "1429    1\n",
            "129     0\n",
            "1476    2\n",
            "       ..\n",
            "1496    0\n",
            "1760    1\n",
            "974     0\n",
            "1946    0\n",
            "93      0\n",
            "Name: price_range, Length: 1400, dtype: int64\n",
            "1796    1\n",
            "1713    0\n",
            "1573    0\n",
            "113     2\n",
            "1649    1\n",
            "       ..\n",
            "823     1\n",
            "1491    3\n",
            "583     0\n",
            "118     0\n",
            "1368    0\n",
            "Name: price_range, Length: 600, dtype: int64\n"
          ]
        }
      ]
    },
    {
      "cell_type": "code",
      "source": [
        "data_set_2=pd.read_csv('/content/drive/MyDrive/heart (1).csv')\n",
        "print(data_set_2)\n",
        "x=data_set_2.drop(columns=[\"target\"],axis=1)\n",
        "y=data_set_2[\"target\"]\n",
        "print(x)\n",
        "print(y)"
      ],
      "metadata": {
        "colab": {
          "base_uri": "https://localhost:8080/"
        },
        "id": "XLNN7lrOHtqP",
        "outputId": "60f48ead-a347-4a4e-fd04-6d9bfd47c349"
      },
      "execution_count": 6,
      "outputs": [
        {
          "output_type": "stream",
          "name": "stdout",
          "text": [
            "     age  sex  cp  trestbps  chol  fbs  restecg  thalach  exang  oldpeak  \\\n",
            "0     63    1   3       145   233    1        0      150      0      2.3   \n",
            "1     37    1   2       130   250    0        1      187      0      3.5   \n",
            "2     41    0   1       130   204    0        0      172      0      1.4   \n",
            "3     56    1   1       120   236    0        1      178      0      0.8   \n",
            "4     57    0   0       120   354    0        1      163      1      0.6   \n",
            "..   ...  ...  ..       ...   ...  ...      ...      ...    ...      ...   \n",
            "298   57    0   0       140   241    0        1      123      1      0.2   \n",
            "299   45    1   3       110   264    0        1      132      0      1.2   \n",
            "300   68    1   0       144   193    1        1      141      0      3.4   \n",
            "301   57    1   0       130   131    0        1      115      1      1.2   \n",
            "302   57    0   1       130   236    0        0      174      0      0.0   \n",
            "\n",
            "     slope  ca  thal  target  \n",
            "0        0   0     1       1  \n",
            "1        0   0     2       1  \n",
            "2        2   0     2       1  \n",
            "3        2   0     2       1  \n",
            "4        2   0     2       1  \n",
            "..     ...  ..   ...     ...  \n",
            "298      1   0     3       0  \n",
            "299      1   0     3       0  \n",
            "300      1   2     3       0  \n",
            "301      1   1     3       0  \n",
            "302      1   1     2       0  \n",
            "\n",
            "[303 rows x 14 columns]\n",
            "     age  sex  cp  trestbps  chol  fbs  restecg  thalach  exang  oldpeak  \\\n",
            "0     63    1   3       145   233    1        0      150      0      2.3   \n",
            "1     37    1   2       130   250    0        1      187      0      3.5   \n",
            "2     41    0   1       130   204    0        0      172      0      1.4   \n",
            "3     56    1   1       120   236    0        1      178      0      0.8   \n",
            "4     57    0   0       120   354    0        1      163      1      0.6   \n",
            "..   ...  ...  ..       ...   ...  ...      ...      ...    ...      ...   \n",
            "298   57    0   0       140   241    0        1      123      1      0.2   \n",
            "299   45    1   3       110   264    0        1      132      0      1.2   \n",
            "300   68    1   0       144   193    1        1      141      0      3.4   \n",
            "301   57    1   0       130   131    0        1      115      1      1.2   \n",
            "302   57    0   1       130   236    0        0      174      0      0.0   \n",
            "\n",
            "     slope  ca  thal  \n",
            "0        0   0     1  \n",
            "1        0   0     2  \n",
            "2        2   0     2  \n",
            "3        2   0     2  \n",
            "4        2   0     2  \n",
            "..     ...  ..   ...  \n",
            "298      1   0     3  \n",
            "299      1   0     3  \n",
            "300      1   2     3  \n",
            "301      1   1     3  \n",
            "302      1   1     2  \n",
            "\n",
            "[303 rows x 13 columns]\n",
            "0      1\n",
            "1      1\n",
            "2      1\n",
            "3      1\n",
            "4      1\n",
            "      ..\n",
            "298    0\n",
            "299    0\n",
            "300    0\n",
            "301    0\n",
            "302    0\n",
            "Name: target, Length: 303, dtype: int64\n"
          ]
        }
      ]
    },
    {
      "cell_type": "code",
      "source": [
        "from sklearn.preprocessing import MinMaxScaler\n",
        "scaler=MinMaxScaler(feature_range=(0,1))\n",
        "x=scaler.fit_transform(x)\n",
        "print(x)"
      ],
      "metadata": {
        "colab": {
          "base_uri": "https://localhost:8080/"
        },
        "id": "WyGNYiogIFqm",
        "outputId": "f553209e-5ba6-4377-a516-14891e4c539e"
      },
      "execution_count": 7,
      "outputs": [
        {
          "output_type": "stream",
          "name": "stdout",
          "text": [
            "[[0.70833333 1.         1.         ... 0.         0.         0.33333333]\n",
            " [0.16666667 1.         0.66666667 ... 0.         0.         0.66666667]\n",
            " [0.25       0.         0.33333333 ... 1.         0.         0.66666667]\n",
            " ...\n",
            " [0.8125     1.         0.         ... 0.5        0.5        1.        ]\n",
            " [0.58333333 1.         0.         ... 0.5        0.25       1.        ]\n",
            " [0.58333333 0.         0.33333333 ... 0.5        0.25       0.66666667]]\n"
          ]
        }
      ]
    },
    {
      "cell_type": "code",
      "source": [
        "from sklearn.model_selection import train_test_split\n",
        "x_train,x_test,y_train,y_test=train_test_split(x,y,test_size=0.3)\n",
        "print(x_train)\n",
        "print(x_test)\n",
        "print(y_train)\n",
        "print(y_test)"
      ],
      "metadata": {
        "colab": {
          "base_uri": "https://localhost:8080/"
        },
        "id": "yYOvJ1P3ITPD",
        "outputId": "5a11fdc8-810b-4aa6-d484-720e951ec254"
      },
      "execution_count": 8,
      "outputs": [
        {
          "output_type": "stream",
          "name": "stdout",
          "text": [
            "[[0.27083333 1.         0.33333333 ... 1.         0.         0.66666667]\n",
            " [0.58333333 1.         0.33333333 ... 1.         0.25       0.66666667]\n",
            " [0.6875     1.         0.33333333 ... 0.5        0.25       1.        ]\n",
            " ...\n",
            " [0.5        1.         0.         ... 0.         0.         1.        ]\n",
            " [0.83333333 1.         1.         ... 0.5        0.25       0.66666667]\n",
            " [0.72916667 0.         0.         ... 1.         0.         0.66666667]]\n",
            "[[0.8125     1.         0.         ... 0.5        0.5        1.        ]\n",
            " [0.58333333 1.         0.66666667 ... 1.         0.25       1.        ]\n",
            " [0.52083333 1.         0.         ... 0.5        0.25       0.66666667]\n",
            " ...\n",
            " [0.6875     0.         0.         ... 1.         0.         0.66666667]\n",
            " [0.52083333 0.         0.66666667 ... 0.5        0.         0.66666667]\n",
            " [0.85416667 1.         0.         ... 0.         0.         1.        ]]\n",
            "132    1\n",
            "287    0\n",
            "226    0\n",
            "97     1\n",
            "189    0\n",
            "      ..\n",
            "236    0\n",
            "83     1\n",
            "169    0\n",
            "106    1\n",
            "110    1\n",
            "Name: target, Length: 212, dtype: int64\n",
            "300    0\n",
            "111    1\n",
            "264    0\n",
            "276    0\n",
            "73     1\n",
            "      ..\n",
            "289    0\n",
            "115    1\n",
            "69     1\n",
            "88     1\n",
            "225    0\n",
            "Name: target, Length: 91, dtype: int64\n"
          ]
        }
      ]
    },
    {
      "cell_type": "code",
      "source": [
        "x1=x_train[0]\n",
        "x2=x_train[1]\n",
        "x3=x_train[2]\n",
        "x4=x_train[3]\n",
        "x5=x_train[4]\n",
        "x6=x_train[5]\n",
        "x7=x_train[6]\n",
        "x8=x_train[7]\n",
        "x9=x_train[8]\n",
        "x10=x_train[9]\n",
        "x11=x_train[10]\n",
        "x12=x_train[11]\n",
        "x13=x_train[12]\n",
        "y_p=[]\n",
        "def perceptron(w1,w2,w3,w4,w5,w6,w7,w8,w9,w10,w11,w12,w13,b):\n",
        "  for i in range(len(x1)):\n",
        "    z=x1[i]*w1+x2[i]*w2+x3[i]*w3+x4[i]*w4+x5[i]*w5+x6[i]*w6+x7[i]*w7+x8[i]*w8+x9[i]*w9+x10[i]*w10+x11[i]*w11+x12[i]*w12+x13[i]*w13+b\n",
        "    s=1/(1+np.exp(-z))\n",
        "    if (s>=0.5):\n",
        "      y_p.append(1)\n",
        "    else:\n",
        "      y_p.append(0)\n",
        "  return y_p\n",
        "w1=random.randint(0,10)\n",
        "w2=random.randint(0,10)\n",
        "w3=random.randint(0,10)\n",
        "w4=random.randint(0,10)\n",
        "w5=random.randint(0,10)\n",
        "w6=random.randint(0,10)\n",
        "w7=random.randint(0,10)\n",
        "w8=random.randint(0,10)\n",
        "w9=random.randint(0,10)\n",
        "w10=random.randint(0,10)\n",
        "w11=random.randint(0,10)\n",
        "w12=random.randint(0,10)\n",
        "w13=random.randint(0,10)\n",
        "b=random.randint(0,10)\n",
        "print(perceptron(w1,w2,w3,w4,w5,w6,w7,w8,w9,w10,w11,w12,w13,b))"
      ],
      "metadata": {
        "colab": {
          "base_uri": "https://localhost:8080/"
        },
        "id": "zXuFIRv8Ibyw",
        "outputId": "23a43bd9-2d30-40e5-b86f-758459ac95c5"
      },
      "execution_count": 9,
      "outputs": [
        {
          "output_type": "stream",
          "name": "stdout",
          "text": [
            "[1, 1, 1, 1, 1, 1, 1, 1, 1, 1, 1, 1, 1]\n"
          ]
        }
      ]
    }
  ]
}