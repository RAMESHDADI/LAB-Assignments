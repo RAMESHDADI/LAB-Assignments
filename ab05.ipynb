{
  "nbformat": 4,
  "nbformat_minor": 0,
  "metadata": {
    "colab": {
      "provenance": []
    },
    "kernelspec": {
      "name": "python3",
      "display_name": "Python 3"
    },
    "language_info": {
      "name": "python"
    }
  },
  "cells": [
    {
      "cell_type": "code",
      "execution_count": 56,
      "metadata": {
        "colab": {
          "base_uri": "https://localhost:8080/"
        },
        "id": "dXOLCrMhjs4e",
        "outputId": "ad7a3a80-0eb7-42a9-da66-e2ef61d828d5"
      },
      "outputs": [
        {
          "output_type": "stream",
          "name": "stdout",
          "text": [
            "     Age  Gender  Protein1  Protein2  Protein3  Protein4 Tumour_Stage  \\\n",
            "0     42  FEMALE  0.952560   2.15000  0.007972 -0.048340           II   \n",
            "1     54  FEMALE  0.000000   1.38020 -0.498030 -0.507320           II   \n",
            "2     63  FEMALE -0.523030   1.76400 -0.370190  0.010815           II   \n",
            "3     78  FEMALE -0.876180   0.12943 -0.370380  0.132190            I   \n",
            "4     42  FEMALE  0.226110   1.74910 -0.543970 -0.390210           II   \n",
            "..   ...     ...       ...       ...       ...       ...          ...   \n",
            "329   59  FEMALE  0.024598   1.40050  0.024751  0.280320           II   \n",
            "330   41  FEMALE  0.100120  -0.46547  0.472370 -0.523870            I   \n",
            "331   54  FEMALE  0.753820   1.64250 -0.332850  0.857860           II   \n",
            "332   74  FEMALE  0.972510   1.42680 -0.366570 -0.107820           II   \n",
            "333   66  FEMALE  0.286380   1.39980  0.318830  0.836050           II   \n",
            "\n",
            "                          Histology ER status PR status HER2 status  \\\n",
            "0     Infiltrating Ductal Carcinoma  Positive  Positive    Negative   \n",
            "1     Infiltrating Ductal Carcinoma  Positive  Positive    Negative   \n",
            "2     Infiltrating Ductal Carcinoma  Positive  Positive    Negative   \n",
            "3     Infiltrating Ductal Carcinoma  Positive  Positive    Negative   \n",
            "4     Infiltrating Ductal Carcinoma  Positive  Positive    Positive   \n",
            "..                              ...       ...       ...         ...   \n",
            "329   Infiltrating Ductal Carcinoma  Positive  Positive    Positive   \n",
            "330   Infiltrating Ductal Carcinoma  Positive  Positive    Positive   \n",
            "331   Infiltrating Ductal Carcinoma  Positive  Positive    Negative   \n",
            "332  Infiltrating Lobular Carcinoma  Positive  Positive    Negative   \n",
            "333   Infiltrating Ductal Carcinoma  Positive  Positive    Negative   \n",
            "\n",
            "                    Surgery_type Date_of_Surgery Date_of_Last_Visit  \\\n",
            "0                          Other       20-May-18          26-Aug-18   \n",
            "1                          Other       26-Apr-18          25-Jan-19   \n",
            "2                     Lumpectomy       24-Aug-18          08-Apr-20   \n",
            "3                          Other       16-Nov-18          28-Jul-20   \n",
            "4                     Lumpectomy       12-Dec-18          05-Jan-19   \n",
            "..                           ...             ...                ...   \n",
            "329                   Lumpectomy       15-Jan-19          27-Mar-20   \n",
            "330  Modified Radical Mastectomy       25-Jul-18          23-Apr-19   \n",
            "331            Simple Mastectomy       26-Mar-19          11-Oct-19   \n",
            "332                   Lumpectomy       26-Nov-18          05-Dec-18   \n",
            "333  Modified Radical Mastectomy       04-Feb-19          10-Aug-19   \n",
            "\n",
            "    Patient_Status  \n",
            "0            Alive  \n",
            "1             Dead  \n",
            "2            Alive  \n",
            "3            Alive  \n",
            "4            Alive  \n",
            "..             ...  \n",
            "329          Alive  \n",
            "330          Alive  \n",
            "331           Dead  \n",
            "332          Alive  \n",
            "333           Dead  \n",
            "\n",
            "[334 rows x 15 columns]\n"
          ]
        }
      ],
      "source": [
        "import pandas as pd\n",
        "a=pd.read_csv('/content/drive/MyDrive/breast_cancer_survival.csv')\n",
        "print(a)"
      ]
    },
    {
      "cell_type": "code",
      "source": [
        "a.isnull().sum()"
      ],
      "metadata": {
        "colab": {
          "base_uri": "https://localhost:8080/"
        },
        "id": "h69Mz1pW0pQQ",
        "outputId": "8ea9f8ad-61f6-459a-e942-740452112760"
      },
      "execution_count": 57,
      "outputs": [
        {
          "output_type": "execute_result",
          "data": {
            "text/plain": [
              "Age                    0\n",
              "Gender                 0\n",
              "Protein1               0\n",
              "Protein2               0\n",
              "Protein3               0\n",
              "Protein4               0\n",
              "Tumour_Stage           0\n",
              "Histology              0\n",
              "ER status              0\n",
              "PR status              0\n",
              "HER2 status            0\n",
              "Surgery_type           0\n",
              "Date_of_Surgery        0\n",
              "Date_of_Last_Visit    17\n",
              "Patient_Status        13\n",
              "dtype: int64"
            ]
          },
          "metadata": {},
          "execution_count": 57
        }
      ]
    },
    {
      "cell_type": "code",
      "source": [
        "a.isnull().sum()"
      ],
      "metadata": {
        "colab": {
          "base_uri": "https://localhost:8080/"
        },
        "id": "Xsq_Z6a11kaK",
        "outputId": "cfb32fd6-9ee5-4368-a6fc-9aaf522d48a4"
      },
      "execution_count": 58,
      "outputs": [
        {
          "output_type": "execute_result",
          "data": {
            "text/plain": [
              "Age                    0\n",
              "Gender                 0\n",
              "Protein1               0\n",
              "Protein2               0\n",
              "Protein3               0\n",
              "Protein4               0\n",
              "Tumour_Stage           0\n",
              "Histology              0\n",
              "ER status              0\n",
              "PR status              0\n",
              "HER2 status            0\n",
              "Surgery_type           0\n",
              "Date_of_Surgery        0\n",
              "Date_of_Last_Visit    17\n",
              "Patient_Status        13\n",
              "dtype: int64"
            ]
          },
          "metadata": {},
          "execution_count": 58
        }
      ]
    },
    {
      "cell_type": "code",
      "source": [
        "a=a.drop(columns=['Histology','Surgery_type','Date_of_Surgery','Date_of_Last_Visit'],axis=1)\n",
        "print(a)"
      ],
      "metadata": {
        "colab": {
          "base_uri": "https://localhost:8080/"
        },
        "id": "KRXUSDL1kl0O",
        "outputId": "babb86c6-af27-4e4f-cd1a-13adb9d75e4d"
      },
      "execution_count": 59,
      "outputs": [
        {
          "output_type": "stream",
          "name": "stdout",
          "text": [
            "     Age  Gender  Protein1  Protein2  Protein3  Protein4 Tumour_Stage  \\\n",
            "0     42  FEMALE  0.952560   2.15000  0.007972 -0.048340           II   \n",
            "1     54  FEMALE  0.000000   1.38020 -0.498030 -0.507320           II   \n",
            "2     63  FEMALE -0.523030   1.76400 -0.370190  0.010815           II   \n",
            "3     78  FEMALE -0.876180   0.12943 -0.370380  0.132190            I   \n",
            "4     42  FEMALE  0.226110   1.74910 -0.543970 -0.390210           II   \n",
            "..   ...     ...       ...       ...       ...       ...          ...   \n",
            "329   59  FEMALE  0.024598   1.40050  0.024751  0.280320           II   \n",
            "330   41  FEMALE  0.100120  -0.46547  0.472370 -0.523870            I   \n",
            "331   54  FEMALE  0.753820   1.64250 -0.332850  0.857860           II   \n",
            "332   74  FEMALE  0.972510   1.42680 -0.366570 -0.107820           II   \n",
            "333   66  FEMALE  0.286380   1.39980  0.318830  0.836050           II   \n",
            "\n",
            "    ER status PR status HER2 status Patient_Status  \n",
            "0    Positive  Positive    Negative          Alive  \n",
            "1    Positive  Positive    Negative           Dead  \n",
            "2    Positive  Positive    Negative          Alive  \n",
            "3    Positive  Positive    Negative          Alive  \n",
            "4    Positive  Positive    Positive          Alive  \n",
            "..        ...       ...         ...            ...  \n",
            "329  Positive  Positive    Positive          Alive  \n",
            "330  Positive  Positive    Positive          Alive  \n",
            "331  Positive  Positive    Negative           Dead  \n",
            "332  Positive  Positive    Negative          Alive  \n",
            "333  Positive  Positive    Negative           Dead  \n",
            "\n",
            "[334 rows x 11 columns]\n"
          ]
        }
      ]
    },
    {
      "cell_type": "code",
      "source": [
        "col_replace=['ER status','PR status','HER2 status']\n",
        "a[col_replace]=a[col_replace].replace({'Positive': 1,'Negative': 0})\n",
        "print(a)"
      ],
      "metadata": {
        "colab": {
          "base_uri": "https://localhost:8080/"
        },
        "id": "Kp0uALLimjDO",
        "outputId": "2ad68434-bb97-417b-9100-0ac846bcc47d"
      },
      "execution_count": 60,
      "outputs": [
        {
          "output_type": "stream",
          "name": "stdout",
          "text": [
            "     Age  Gender  Protein1  Protein2  Protein3  Protein4 Tumour_Stage  \\\n",
            "0     42  FEMALE  0.952560   2.15000  0.007972 -0.048340           II   \n",
            "1     54  FEMALE  0.000000   1.38020 -0.498030 -0.507320           II   \n",
            "2     63  FEMALE -0.523030   1.76400 -0.370190  0.010815           II   \n",
            "3     78  FEMALE -0.876180   0.12943 -0.370380  0.132190            I   \n",
            "4     42  FEMALE  0.226110   1.74910 -0.543970 -0.390210           II   \n",
            "..   ...     ...       ...       ...       ...       ...          ...   \n",
            "329   59  FEMALE  0.024598   1.40050  0.024751  0.280320           II   \n",
            "330   41  FEMALE  0.100120  -0.46547  0.472370 -0.523870            I   \n",
            "331   54  FEMALE  0.753820   1.64250 -0.332850  0.857860           II   \n",
            "332   74  FEMALE  0.972510   1.42680 -0.366570 -0.107820           II   \n",
            "333   66  FEMALE  0.286380   1.39980  0.318830  0.836050           II   \n",
            "\n",
            "     ER status  PR status  HER2 status Patient_Status  \n",
            "0            1          1            0          Alive  \n",
            "1            1          1            0           Dead  \n",
            "2            1          1            0          Alive  \n",
            "3            1          1            0          Alive  \n",
            "4            1          1            1          Alive  \n",
            "..         ...        ...          ...            ...  \n",
            "329          1          1            1          Alive  \n",
            "330          1          1            1          Alive  \n",
            "331          1          1            0           Dead  \n",
            "332          1          1            0          Alive  \n",
            "333          1          1            0           Dead  \n",
            "\n",
            "[334 rows x 11 columns]\n"
          ]
        }
      ]
    },
    {
      "cell_type": "code",
      "source": [
        "a['Patient_Status']=a['Patient_Status'].replace({'Alive':1,'Dead':0})\n",
        "round_Values=round(a.Patient_Status.mean())\n",
        "a.Patient_Status=a.Patient_Status.fillna(round_Values)\n",
        "print(a)"
      ],
      "metadata": {
        "colab": {
          "base_uri": "https://localhost:8080/"
        },
        "id": "KmIUXYBQnRM_",
        "outputId": "b1673147-7e74-445c-9cbe-3d3fb9a59d49"
      },
      "execution_count": 61,
      "outputs": [
        {
          "output_type": "stream",
          "name": "stdout",
          "text": [
            "     Age  Gender  Protein1  Protein2  Protein3  Protein4 Tumour_Stage  \\\n",
            "0     42  FEMALE  0.952560   2.15000  0.007972 -0.048340           II   \n",
            "1     54  FEMALE  0.000000   1.38020 -0.498030 -0.507320           II   \n",
            "2     63  FEMALE -0.523030   1.76400 -0.370190  0.010815           II   \n",
            "3     78  FEMALE -0.876180   0.12943 -0.370380  0.132190            I   \n",
            "4     42  FEMALE  0.226110   1.74910 -0.543970 -0.390210           II   \n",
            "..   ...     ...       ...       ...       ...       ...          ...   \n",
            "329   59  FEMALE  0.024598   1.40050  0.024751  0.280320           II   \n",
            "330   41  FEMALE  0.100120  -0.46547  0.472370 -0.523870            I   \n",
            "331   54  FEMALE  0.753820   1.64250 -0.332850  0.857860           II   \n",
            "332   74  FEMALE  0.972510   1.42680 -0.366570 -0.107820           II   \n",
            "333   66  FEMALE  0.286380   1.39980  0.318830  0.836050           II   \n",
            "\n",
            "     ER status  PR status  HER2 status  Patient_Status  \n",
            "0            1          1            0             1.0  \n",
            "1            1          1            0             0.0  \n",
            "2            1          1            0             1.0  \n",
            "3            1          1            0             1.0  \n",
            "4            1          1            1             1.0  \n",
            "..         ...        ...          ...             ...  \n",
            "329          1          1            1             1.0  \n",
            "330          1          1            1             1.0  \n",
            "331          1          1            0             0.0  \n",
            "332          1          1            0             1.0  \n",
            "333          1          1            0             0.0  \n",
            "\n",
            "[334 rows x 11 columns]\n"
          ]
        }
      ]
    },
    {
      "cell_type": "code",
      "source": [
        "a['Tumour_Stage']=a['Tumour_Stage'].replace({'I':1,'II':2,'III':3,'IV':4})\n",
        "a['Gender']=a['Gender'].replace({'FEMALE':0,'MALE':1})\n",
        "print(a)"
      ],
      "metadata": {
        "colab": {
          "base_uri": "https://localhost:8080/"
        },
        "id": "OWLOVE47nqm9",
        "outputId": "87ac6388-daea-4415-cd8a-79b4d9013121"
      },
      "execution_count": 62,
      "outputs": [
        {
          "output_type": "stream",
          "name": "stdout",
          "text": [
            "     Age  Gender  Protein1  Protein2  Protein3  Protein4  Tumour_Stage  \\\n",
            "0     42       0  0.952560   2.15000  0.007972 -0.048340             2   \n",
            "1     54       0  0.000000   1.38020 -0.498030 -0.507320             2   \n",
            "2     63       0 -0.523030   1.76400 -0.370190  0.010815             2   \n",
            "3     78       0 -0.876180   0.12943 -0.370380  0.132190             1   \n",
            "4     42       0  0.226110   1.74910 -0.543970 -0.390210             2   \n",
            "..   ...     ...       ...       ...       ...       ...           ...   \n",
            "329   59       0  0.024598   1.40050  0.024751  0.280320             2   \n",
            "330   41       0  0.100120  -0.46547  0.472370 -0.523870             1   \n",
            "331   54       0  0.753820   1.64250 -0.332850  0.857860             2   \n",
            "332   74       0  0.972510   1.42680 -0.366570 -0.107820             2   \n",
            "333   66       0  0.286380   1.39980  0.318830  0.836050             2   \n",
            "\n",
            "     ER status  PR status  HER2 status  Patient_Status  \n",
            "0            1          1            0             1.0  \n",
            "1            1          1            0             0.0  \n",
            "2            1          1            0             1.0  \n",
            "3            1          1            0             1.0  \n",
            "4            1          1            1             1.0  \n",
            "..         ...        ...          ...             ...  \n",
            "329          1          1            1             1.0  \n",
            "330          1          1            1             1.0  \n",
            "331          1          1            0             0.0  \n",
            "332          1          1            0             1.0  \n",
            "333          1          1            0             0.0  \n",
            "\n",
            "[334 rows x 11 columns]\n"
          ]
        }
      ]
    },
    {
      "cell_type": "code",
      "source": [
        "features=a.drop(columns=['Patient_Status','Gender'],axis=1)\n",
        "target=a['Patient_Status']\n",
        "print(features)\n",
        "print(target)"
      ],
      "metadata": {
        "colab": {
          "base_uri": "https://localhost:8080/"
        },
        "id": "4NhxXeDGoSZg",
        "outputId": "91edc037-5919-48dd-a75b-25dd02e438dd"
      },
      "execution_count": 63,
      "outputs": [
        {
          "output_type": "stream",
          "name": "stdout",
          "text": [
            "     Age  Protein1  Protein2  Protein3  Protein4  Tumour_Stage  ER status  \\\n",
            "0     42  0.952560   2.15000  0.007972 -0.048340             2          1   \n",
            "1     54  0.000000   1.38020 -0.498030 -0.507320             2          1   \n",
            "2     63 -0.523030   1.76400 -0.370190  0.010815             2          1   \n",
            "3     78 -0.876180   0.12943 -0.370380  0.132190             1          1   \n",
            "4     42  0.226110   1.74910 -0.543970 -0.390210             2          1   \n",
            "..   ...       ...       ...       ...       ...           ...        ...   \n",
            "329   59  0.024598   1.40050  0.024751  0.280320             2          1   \n",
            "330   41  0.100120  -0.46547  0.472370 -0.523870             1          1   \n",
            "331   54  0.753820   1.64250 -0.332850  0.857860             2          1   \n",
            "332   74  0.972510   1.42680 -0.366570 -0.107820             2          1   \n",
            "333   66  0.286380   1.39980  0.318830  0.836050             2          1   \n",
            "\n",
            "     PR status  HER2 status  \n",
            "0            1            0  \n",
            "1            1            0  \n",
            "2            1            0  \n",
            "3            1            0  \n",
            "4            1            1  \n",
            "..         ...          ...  \n",
            "329          1            1  \n",
            "330          1            1  \n",
            "331          1            0  \n",
            "332          1            0  \n",
            "333          1            0  \n",
            "\n",
            "[334 rows x 9 columns]\n",
            "0      1.0\n",
            "1      0.0\n",
            "2      1.0\n",
            "3      1.0\n",
            "4      1.0\n",
            "      ... \n",
            "329    1.0\n",
            "330    1.0\n",
            "331    0.0\n",
            "332    1.0\n",
            "333    0.0\n",
            "Name: Patient_Status, Length: 334, dtype: float64\n"
          ]
        }
      ]
    },
    {
      "cell_type": "code",
      "source": [
        "from sklearn.model_selection import train_test_split\n",
        "x_train,x_test,y_train,y_test=train_test_split(features,target,test_size=0.30)"
      ],
      "metadata": {
        "id": "r4j5cSXlwpQE"
      },
      "execution_count": 64,
      "outputs": []
    },
    {
      "cell_type": "code",
      "source": [
        "import math\n",
        "import random\n",
        "import numpy as np\n",
        "log_error=[]\n",
        "k=[]\n",
        "def logistic_regression(w0,w1,w2,w3,w4,w5,w6,w7,w8,w9):\n",
        "    c=0\n",
        "    for i in range(len(x_train)):\n",
        "        z1=x_train['Age'].iloc[i]*w0\n",
        "        z2=x_train['Protein1'].iloc[i]*w1\n",
        "        z3=x_train['Protein2'].iloc[i]*w2\n",
        "        z4=x_train['Protein3'].iloc[i]*w3\n",
        "        z5=x_train['Protein4'].iloc[i]*w4\n",
        "        z6=x_train['Tumour_Stage'].iloc[i]*w5\n",
        "        z7=x_train['ER status'].iloc[i]*w6\n",
        "        z8=x_train['PR status'].iloc[i]*w7\n",
        "        z9=(x_train['HER2 status'].iloc[i]*w8)+w9\n",
        "        z=z1+z2+z3+z4+z5+z6+z7+z8+z9\n",
        "        p=1/(1+math.exp(-z))\n",
        "        p=max(min(p,1-1e-15),1e-15)\n",
        "        k.append(-y_train.iloc[i]*math.log(p)-(1-y_train.iloc[i])*math.log(1-p))\n",
        "        if (p>=0.5 and y_train.iloc[i]==1) or (p<0.5 and y_train.iloc[i]==0):\n",
        "            c+=1\n",
        "    ac=c/len(x_train)\n",
        "    return k,ac\n",
        "w0=random.randint(1,10)\n",
        "w1=random.randint(1,10)\n",
        "w2=random.randint(1,10)\n",
        "w3=random.randint(1,10)\n",
        "w4=random.randint(1,10)\n",
        "w5=random.randint(1,10)\n",
        "w6=random.randint(1,10)\n",
        "w7=random.randint(1,10)\n",
        "w8=random.randint(1,10)\n",
        "w9=random.randint(1,10)\n",
        "k,ac=logistic_regression(w0,w1,w2,w3,w4,w5,w6,w7,w8,w9)\n",
        "k=np.mean(k)\n",
        "print(k)\n",
        "print(ac)\n"
      ],
      "metadata": {
        "colab": {
          "base_uri": "https://localhost:8080/"
        },
        "id": "mpdRpTKJscfu",
        "outputId": "4fa1ad64-c71c-4953-cd08-61d755eced06"
      },
      "execution_count": 65,
      "outputs": [
        {
          "output_type": "stream",
          "name": "stdout",
          "text": [
            "6.374256513607973\n",
            "0.8154506437768241\n"
          ]
        }
      ]
    },
    {
      "cell_type": "code",
      "source": [
        "from sklearn.linear_model import LogisticRegression\n",
        "from sklearn.metrics import accuracy_score\n",
        "lg=LogisticRegression()\n",
        "lg.fit(x_train,y_train)\n",
        "y_p=lg.predict(x_test)\n",
        "print(\"ACCURACY:\",accuracy_score(y_test,y_p))\n",
        "print(\"\\n\\n\\n\")\n"
      ],
      "metadata": {
        "id": "xzHh8YSsvKwr",
        "colab": {
          "base_uri": "https://localhost:8080/"
        },
        "outputId": "da0bdffa-334e-4cb7-93bf-a0edd132dfb2"
      },
      "execution_count": 66,
      "outputs": [
        {
          "output_type": "stream",
          "name": "stdout",
          "text": [
            "ACCURACY: 0.7722772277227723\n",
            "\n",
            "\n",
            "\n",
            "\n"
          ]
        },
        {
          "output_type": "stream",
          "name": "stderr",
          "text": [
            "/usr/local/lib/python3.10/dist-packages/sklearn/linear_model/_logistic.py:458: ConvergenceWarning: lbfgs failed to converge (status=1):\n",
            "STOP: TOTAL NO. of ITERATIONS REACHED LIMIT.\n",
            "\n",
            "Increase the number of iterations (max_iter) or scale the data as shown in:\n",
            "    https://scikit-learn.org/stable/modules/preprocessing.html\n",
            "Please also refer to the documentation for alternative solver options:\n",
            "    https://scikit-learn.org/stable/modules/linear_model.html#logistic-regression\n",
            "  n_iter_i = _check_optimize_result(\n"
          ]
        }
      ]
    }
  ]
}